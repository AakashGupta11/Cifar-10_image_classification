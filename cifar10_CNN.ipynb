{
 "cells": [
  {
   "cell_type": "code",
   "execution_count": null,
   "metadata": {
    "colab": {
     "autoexec": {
      "startup": false,
      "wait_interval": 0
     }
    },
    "colab_type": "code",
    "id": "BECfhoMCZlFs"
   },
   "outputs": [],
   "source": [
    "import keras\n",
    "from keras.models import Sequential\n",
    "from keras.layers import Convolution2D\n",
    "from keras.layers import MaxPool2D\n",
    "from keras.layers import Flatten\n",
    "from keras.layers import Dense\n",
    "from keras.datasets import cifar10\n",
    "from keras.utils import np_utils\n",
    "from keras.layers import Dropout\n",
    "from keras.preprocessing.image import ImageDataGenerator\n",
    "import matplotlib.pyplot as plt"
   ]
  },
  {
   "cell_type": "code",
   "execution_count": null,
   "metadata": {
    "colab": {
     "autoexec": {
      "startup": false,
      "wait_interval": 0
     }
    },
    "colab_type": "code",
    "id": "qO4PfSkXbqbU"
   },
   "outputs": [],
   "source": [
    "(X_train, y_train), (X_test, y_test) = cifar10.load_data()"
   ]
  },
  {
   "cell_type": "code",
   "execution_count": null,
   "metadata": {
    "colab": {
     "autoexec": {
      "startup": false,
      "wait_interval": 0
     }
    },
    "colab_type": "code",
    "id": "zfASFN2cbta6"
   },
   "outputs": [],
   "source": [
    "X_train = X_train / 255.0\n",
    "X_test = X_test / 255.0"
   ]
  },
  {
   "cell_type": "code",
   "execution_count": null,
   "metadata": {
    "colab": {
     "autoexec": {
      "startup": false,
      "wait_interval": 0
     }
    },
    "colab_type": "code",
    "id": "iknjlLV8crCW"
   },
   "outputs": [],
   "source": [
    "X_train_data = X_train[:45000]\n",
    "X_test_data = X_train[45000:]"
   ]
  },
  {
   "cell_type": "code",
   "execution_count": null,
   "metadata": {
    "colab": {
     "autoexec": {
      "startup": false,
      "wait_interval": 0
     }
    },
    "colab_type": "code",
    "id": "HM9r9tO-crcj"
   },
   "outputs": [],
   "source": []
  },
  {
   "cell_type": "code",
   "execution_count": null,
   "metadata": {
    "colab": {
     "autoexec": {
      "startup": false,
      "wait_interval": 0
     }
    },
    "colab_type": "code",
    "id": "izFXvrCibtX5"
   },
   "outputs": [],
   "source": [
    "y_train = np_utils.to_categorical(y_train, num_classes = 10)\n",
    "y_test = np_utils.to_categorical(y_test, num_classes = 10)"
   ]
  },
  {
   "cell_type": "code",
   "execution_count": null,
   "metadata": {
    "colab": {
     "autoexec": {
      "startup": false,
      "wait_interval": 0
     }
    },
    "colab_type": "code",
    "id": "CKRfUZsBdhjt"
   },
   "outputs": [],
   "source": [
    "Y_train_data = y_train[:45000]\n",
    "Y_test_data = y_train[45000:]"
   ]
  },
  {
   "cell_type": "code",
   "execution_count": null,
   "metadata": {
    "colab": {
     "autoexec": {
      "startup": false,
      "wait_interval": 0
     }
    },
    "colab_type": "code",
    "id": "_WF3BDUIbtU_"
   },
   "outputs": [],
   "source": [
    "# Sequential model\n",
    "classifier = Sequential()\n",
    "\n",
    "classifier.add(Convolution2D(64, (3, 3), padding = 'same', input_shape = (32, 32, 3), activation = 'relu'))\n",
    "classifier.add(Convolution2D(64, (3, 3), padding = 'same', activation = 'relu'))\n",
    "classifier.add(MaxPool2D(pool_size = (2, 2)))\n",
    "\n",
    "classifier.add(Convolution2D(256, (3, 3), padding = 'same', activation = 'relu'))\n",
    "classifier.add(Convolution2D(256, (3, 3), padding = 'same', activation = 'relu'))\n",
    "classifier.add(Convolution2D(256, (3, 3), padding = 'same', activation = 'relu'))\n",
    "classifier.add(MaxPool2D(pool_size = (2, 2)))\n",
    "\n",
    "classifier.add(Flatten())\n",
    "classifier.add(Dense(units = 4096, kernel_initializer = 'uniform', activation = 'relu'))\n",
    "\n",
    "classifier.add(Dense(units = 10, kernel_initializer = 'uniform', activation = 'sigmoid'))\n"
   ]
  },
  {
   "cell_type": "code",
   "execution_count": null,
   "metadata": {
    "colab": {
     "autoexec": {
      "startup": false,
      "wait_interval": 0
     }
    },
    "colab_type": "code",
    "id": "X25pQle-cIVR"
   },
   "outputs": [],
   "source": [
    "classifier.compile(optimizer = 'adam', loss = 'categorical_crossentropy', metrics = ['accuracy'])"
   ]
  },
  {
   "cell_type": "code",
   "execution_count": null,
   "metadata": {
    "colab": {
     "autoexec": {
      "startup": false,
      "wait_interval": 0
     },
     "base_uri": "https://localhost:8080/",
     "height": 921
    },
    "colab_type": "code",
    "executionInfo": {
     "elapsed": 60320,
     "status": "ok",
     "timestamp": 1532592912880,
     "user": {
      "displayName": "Aakash Gupta",
      "photoUrl": "//lh6.googleusercontent.com/-kX-2bxhvVVI/AAAAAAAAAAI/AAAAAAAAABY/Nc0rPjwkC8s/s50-c-k-no/photo.jpg",
      "userId": "116951462494679469142"
     },
     "user_tz": -330
    },
    "id": "36tVJ6JWcISE",
    "outputId": "6c185b09-74a8-42bc-adaf-00bce95d754f"
   },
   "outputs": [],
   "source": [
    "epochs = 10\n",
    "batch_size = 64\n",
    "classifier.fit(X_train_data, Y_train_data, epochs = epochs, batch_size = batch_size, validation_data = (X_test_data, Y_test_data))"
   ]
  },
  {
   "cell_type": "code",
   "execution_count": null,
   "metadata": {
    "colab": {
     "autoexec": {
      "startup": false,
      "wait_interval": 0
     },
     "base_uri": "https://localhost:8080/",
     "height": 34
    },
    "colab_type": "code",
    "executionInfo": {
     "elapsed": 9095,
     "status": "ok",
     "timestamp": 1532592923743,
     "user": {
      "displayName": "Aakash Gupta",
      "photoUrl": "//lh6.googleusercontent.com/-kX-2bxhvVVI/AAAAAAAAAAI/AAAAAAAAABY/Nc0rPjwkC8s/s50-c-k-no/photo.jpg",
      "userId": "116951462494679469142"
     },
     "user_tz": -330
    },
    "id": "tcWbiq7BcIOJ",
    "outputId": "236f3cba-e07d-4c51-8327-e1f1e9f5b265"
   },
   "outputs": [],
   "source": [
    "scores = classifier.evaluate(X_test, y_test)"
   ]
  },
  {
   "cell_type": "code",
   "execution_count": null,
   "metadata": {
    "colab": {
     "autoexec": {
      "startup": false,
      "wait_interval": 0
     },
     "base_uri": "https://localhost:8080/",
     "height": 34
    },
    "colab_type": "code",
    "executionInfo": {
     "elapsed": 1159,
     "status": "ok",
     "timestamp": 1532592924994,
     "user": {
      "displayName": "Aakash Gupta",
      "photoUrl": "//lh6.googleusercontent.com/-kX-2bxhvVVI/AAAAAAAAAAI/AAAAAAAAABY/Nc0rPjwkC8s/s50-c-k-no/photo.jpg",
      "userId": "116951462494679469142"
     },
     "user_tz": -330
    },
    "id": "pNZJ79gLbqXp",
    "outputId": "6acfcfb2-b912-432e-9bbb-a1c0a6c4f5c8"
   },
   "outputs": [],
   "source": [
    "print('accuracy :', scores[1] * 100, '\\b%')"
   ]
  }
 ],
 "metadata": {
  "colab": {
   "default_view": {},
   "name": "cifar.ipynb",
   "provenance": [],
   "version": "0.3.2",
   "views": {}
  },
  "kernelspec": {
   "display_name": "Python 3",
   "language": "python",
   "name": "python3"
  },
  "language_info": {
   "codemirror_mode": {
    "name": "ipython",
    "version": 3
   },
   "file_extension": ".py",
   "mimetype": "text/x-python",
   "name": "python",
   "nbconvert_exporter": "python",
   "pygments_lexer": "ipython3",
   "version": "3.6.5"
  }
 },
 "nbformat": 4,
 "nbformat_minor": 1
}
